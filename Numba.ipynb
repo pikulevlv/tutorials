{
 "cells": [
  {
   "cell_type": "code",
   "execution_count": 20,
   "metadata": {
    "scrolled": true
   },
   "outputs": [],
   "source": [
    "# !pip install numba"
   ]
  },
  {
   "cell_type": "code",
   "execution_count": 1,
   "metadata": {},
   "outputs": [],
   "source": [
    "from math import sqrt"
   ]
  },
  {
   "cell_type": "code",
   "execution_count": 2,
   "metadata": {},
   "outputs": [],
   "source": [
    "# def test(x):\n",
    "#     y = 1\n",
    "#     for i in range(1, x+1):\n",
    "#         y *= i\n",
    "#     return y\n",
    "\n",
    "def test(n):\n",
    "    s = 0.\n",
    "    for i in range(n):\n",
    "        s += sqrt(i)\n",
    "    return s"
   ]
  },
  {
   "cell_type": "code",
   "execution_count": 3,
   "metadata": {},
   "outputs": [
    {
     "name": "stdout",
     "output_type": "stream",
     "text": [
      "Without numba time = 12.48607325553894\n"
     ]
    }
   ],
   "source": [
    "import time\n",
    "\n",
    "number = 100_000_000\n",
    "\n",
    "start = time.time()\n",
    "test(number)\n",
    "end =  time.time()\n",
    "\n",
    "py_time = end - start\n",
    "print(\"Without numba time = {}\".format(py_time))"
   ]
  },
  {
   "cell_type": "code",
   "execution_count": 4,
   "metadata": {},
   "outputs": [],
   "source": [
    "from numba import njit\n",
    "\n",
    "# @njit\n",
    "# def test_numba(x):\n",
    "#     y = 1\n",
    "#     for i in range(1, x+1):\n",
    "#         y *= i\n",
    "#     return y\n",
    "\n",
    "@njit\n",
    "def test_numba(n):\n",
    "    s = 0.\n",
    "    for i in range(n):\n",
    "        s += sqrt(i)\n",
    "    return s"
   ]
  },
  {
   "cell_type": "code",
   "execution_count": 5,
   "metadata": {},
   "outputs": [
    {
     "name": "stdout",
     "output_type": "stream",
     "text": [
      "With numba time = 0.5283465385437012\n"
     ]
    }
   ],
   "source": [
    "start = time.time()\n",
    "test_numba(number)\n",
    "end =  time.time()\n",
    "\n",
    "numba_time = end - start\n",
    "print(\"With numba time = {}\".format(numba_time))"
   ]
  },
  {
   "cell_type": "code",
   "execution_count": 9,
   "metadata": {},
   "outputs": [
    {
     "name": "stdout",
     "output_type": "stream",
     "text": [
      "Axeleration: x 23.63 times\n"
     ]
    }
   ],
   "source": [
    "axeleratio = py_time / numba_time\n",
    "print(f\"Axeleration: x {round(axeleratio, 2)} times\")"
   ]
  },
  {
   "cell_type": "markdown",
   "metadata": {},
   "source": [
    "Manual: <a href=\"https://habr.com/ru/post/484136/\">here</a>"
   ]
  },
  {
   "cell_type": "markdown",
   "metadata": {},
   "source": [
    "Применять можно для части функционала чистого python и numpy."
   ]
  },
  {
   "cell_type": "code",
   "execution_count": null,
   "metadata": {},
   "outputs": [],
   "source": []
  }
 ],
 "metadata": {
  "kernelspec": {
   "display_name": "Python 3",
   "language": "python",
   "name": "python3"
  },
  "language_info": {
   "codemirror_mode": {
    "name": "ipython",
    "version": 3
   },
   "file_extension": ".py",
   "mimetype": "text/x-python",
   "name": "python",
   "nbconvert_exporter": "python",
   "pygments_lexer": "ipython3",
   "version": "3.7.6"
  }
 },
 "nbformat": 4,
 "nbformat_minor": 4
}

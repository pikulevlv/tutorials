{
 "cells": [
  {
   "cell_type": "code",
   "execution_count": 1,
   "metadata": {},
   "outputs": [
    {
     "name": "stdout",
     "output_type": "stream",
     "text": [
      "Проводим границу после элемента с индексом 3\n"
     ]
    }
   ],
   "source": [
    "def gini_criterion(x: list, y: list, print_=False)-> int: \n",
    "    import numpy as np\n",
    "    \"\"\"Вычисление критерия Джини\"\"\"\n",
    "    n_classes  = len(set(y)) # всего уникальных класов\n",
    "    n_examples = len(x) # всего примеров\n",
    "    \n",
    "    def border_list(x: list) -> list:\n",
    "        \"\"\"Принимаем список значений, возвращаем индексы элементов, \n",
    "        после которых нужно попробовать провести границу\"\"\"\n",
    "        border_list = []\n",
    "\n",
    "        for idx, ex in enumerate(x):\n",
    "            if idx != (n_examples - 1): # если индекс не последний\n",
    "                try:\n",
    "                    if y[idx+1] != y[idx]: # если следуюший элемент отличается\n",
    "                        border_list.append(idx) # сохраняем в список\n",
    "                    else:\n",
    "                        pass\n",
    "                except:\n",
    "                    pass\n",
    "            else:\n",
    "                pass\n",
    "        return border_list\n",
    "    # список с массивами частот встречаемости классов (отсортированных по порядку)\n",
    "    H_general_cls_freq = [np.where(np.array(y) == cls)[0].shape[0] \\\n",
    "                          for cls in sorted(list(set(y)))]\n",
    "    # значение H(R) для всего списка\n",
    "    H_general = sum([f/len(x)*(1-f/len(x)) for f in H_general_cls_freq])\n",
    "    \n",
    "    borders = border_list(x)\n",
    "    \n",
    "    res_dict = {}\n",
    "    \n",
    "    for b in borders:\n",
    "        # разбиваем списки по индексу из списка границ\n",
    "        x_left, y_left = x[:b+1], y[:b+1]\n",
    "        x_right, y_right = x[b+1:], y[b+1:]\n",
    "        #  значение H(Rleft) для левой части списка\n",
    "        H_left_cls_freq = [np.where(np.array(y_left) == cls)[0].shape[0] \\\n",
    "                           for cls in sorted(list(set(y_left)))]\n",
    "        H_left = sum([f/len(x_left)*(1-f/len(x_left)) for f in H_left_cls_freq])\n",
    "        #  значение H(Rright) для правой части списка\n",
    "        H_right_cls_freq = [np.where(np.array(y_right) == cls)[0].shape[0] \\\n",
    "                            for cls in sorted(list(set(y_right)))]\n",
    "        H_right = sum([f/len(x_right)*(1-f/len(x_right)) for f in H_right_cls_freq])\n",
    "        #  значение information gain по формуле\n",
    "        IG = round(H_general - H_left*len(x_left)/len(x) - H_right*len(x_right)/len(x), 3)\n",
    "        \n",
    "        res_dict[b]=IG\n",
    "                \n",
    "#         print(IG)\n",
    "    # индекс границы, для которой IG максимально\n",
    "    res = max(res_dict, key=res_dict.get)\n",
    "    if print_:\n",
    "        print(f\"Проводим границу после элемента с индексом {res}\")\n",
    "    \n",
    "    return \n",
    "            \n",
    "gini_criterion([1,2,3,4,5,6,7,8,9], [0,1,0,0,1,1,0,1,1], print_= True)"
   ]
  },
  {
   "cell_type": "code",
   "execution_count": null,
   "metadata": {},
   "outputs": [],
   "source": []
  }
 ],
 "metadata": {
  "kernelspec": {
   "display_name": "Python 3",
   "language": "python",
   "name": "python3"
  },
  "language_info": {
   "codemirror_mode": {
    "name": "ipython",
    "version": 3
   },
   "file_extension": ".py",
   "mimetype": "text/x-python",
   "name": "python",
   "nbconvert_exporter": "python",
   "pygments_lexer": "ipython3",
   "version": "3.7.6"
  }
 },
 "nbformat": 4,
 "nbformat_minor": 4
}

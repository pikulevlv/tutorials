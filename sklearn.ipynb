{
 "cells": [
  {
   "cell_type": "markdown",
   "metadata": {},
   "source": [
    "### Импорт данных и установка random_state"
   ]
  },
  {
   "cell_type": "code",
   "execution_count": 1,
   "metadata": {},
   "outputs": [],
   "source": [
    "from sklearn import datasets\n",
    "import matplotlib.pyplot as plt\n",
    "import numpy as np\n",
    "\n",
    "RS=44\n",
    "\n",
    "iris = datasets.load_iris()\n",
    "X, y = iris.data[:, :2], iris.target"
   ]
  },
  {
   "cell_type": "markdown",
   "metadata": {},
   "source": [
    "### Разделение данных на train/test"
   ]
  },
  {
   "cell_type": "markdown",
   "metadata": {},
   "source": [
    "#### Случайное разбиение в нужной пропорции"
   ]
  },
  {
   "cell_type": "code",
   "execution_count": 2,
   "metadata": {},
   "outputs": [],
   "source": [
    "from sklearn.model_selection import train_test_split\n",
    "X_train, X_test, y_train, y_test = train_test_split(X, y, test_size=0.2, random_state=RS)"
   ]
  },
  {
   "cell_type": "markdown",
   "metadata": {},
   "source": [
    "### Шкалирование: стандартизация, нормализация, бинаризация"
   ]
  },
  {
   "cell_type": "markdown",
   "metadata": {},
   "source": [
    "#### Standartization (вычесть среднее, поделить на дисперсию)"
   ]
  },
  {
   "cell_type": "code",
   "execution_count": 3,
   "metadata": {},
   "outputs": [],
   "source": [
    "from sklearn.preprocessing import StandardScaler\n",
    "# обучаем только на train\n",
    "scaler = StandardScaler().fit(X_train)\n",
    "# далее преобразуем и train и test обученным на train оценщиком\n",
    "X_train_standarted = scaler.transform(X_train)\n",
    "X_test_standarted = scaler.transform(X_test)"
   ]
  },
  {
   "cell_type": "markdown",
   "metadata": {},
   "source": [
    "#### Normalization (вычесть минимум, поделить на разницу между максимумом и минимумом)"
   ]
  },
  {
   "cell_type": "code",
   "execution_count": 4,
   "metadata": {},
   "outputs": [],
   "source": [
    "from sklearn.preprocessing import Normalizer\n",
    "scaler = Normalizer().fit(X_train)\n",
    "X_train_normalized = scaler.transform(X_train)\n",
    "X_test_normalized = scaler.transform(X_test)"
   ]
  },
  {
   "cell_type": "markdown",
   "metadata": {},
   "source": [
    "#### Binarization (по порогу)"
   ]
  },
  {
   "cell_type": "code",
   "execution_count": 5,
   "metadata": {},
   "outputs": [],
   "source": [
    "from sklearn.preprocessing import Binarizer\n",
    "binarizer = Binarizer(threshold=0.0).fit(X) # fit does nothing.\n",
    "X_train_binarizeded = binarizer.transform(X_train)\n",
    "X_test_binarizeded = binarizer.transform(X_test)"
   ]
  },
  {
   "cell_type": "markdown",
   "metadata": {},
   "source": [
    "#### Еще методы предобработки:\n",
    "\n",
    "from sklearn.preprocessing import LabelEncoder, Imputer, PolynomialFeatures"
   ]
  },
  {
   "cell_type": "markdown",
   "metadata": {},
   "source": [
    "### Модели с учителем"
   ]
  },
  {
   "cell_type": "code",
   "execution_count": 6,
   "metadata": {},
   "outputs": [],
   "source": [
    "from sklearn.linear_model import LinearRegression\n",
    "lr = LinearRegression(normalize=True)\n",
    "lr.fit(X_train, y_train)\n",
    "y_pred = lr.predict(X_test)\n",
    "\n",
    "from sklearn.svm import SVC # Support Vector Machines (SVM)\n",
    "svc = SVC(kernel='linear')\n",
    "svc.fit(X_train, y_train)\n",
    "y_pred = svc.predict(X_test)\n",
    "\n",
    "from sklearn.naive_bayes import GaussianNB # Naive Bayes\n",
    "gnb = GaussianNB()\n",
    "gnb.fit(X_train, y_train)\n",
    "y_pred = gnb.predict(X_test)\n",
    "\n",
    "from sklearn import neighbors # k near neighbors\n",
    "knn = neighbors.KNeighborsClassifier(n_neighbors=5)\n",
    "knn.fit(X_train, y_train)\n",
    "y_pred = knn.predict_proba(X_test) # вероятности принадлежности к классу (кластеру)\n",
    "y_pred = knn.predict(X_test)\n",
    "\n",
    "from sklearn.linear_model import SGDClassifier\n",
    "sgd_clf = SGDClassifier(random_state=RS)\n",
    "sgd_clf.fit(X_train, y_train)\n",
    "y_pred = sgd_clf.predict(X_test)"
   ]
  },
  {
   "cell_type": "markdown",
   "metadata": {},
   "source": [
    "### Модели без учителя"
   ]
  },
  {
   "cell_type": "code",
   "execution_count": 7,
   "metadata": {},
   "outputs": [
    {
     "data": {
      "text/plain": [
       "DecisionTreeClassifier(ccp_alpha=0.0, class_weight=None, criterion='gini',\n",
       "                       max_depth=5, max_features=None, max_leaf_nodes=None,\n",
       "                       min_impurity_decrease=0.0, min_impurity_split=None,\n",
       "                       min_samples_leaf=1, min_samples_split=2,\n",
       "                       min_weight_fraction_leaf=0.0, presort='deprecated',\n",
       "                       random_state=None, splitter='best')"
      ]
     },
     "execution_count": 7,
     "metadata": {},
     "output_type": "execute_result"
    }
   ],
   "source": [
    "from sklearn.decomposition import PCA\n",
    "pca = PCA(n_components=0.95)\n",
    "pca_model = pca.fit_transform(X_train)\n",
    "\n",
    "from sklearn.cluster import KMeans\n",
    "k_means = KMeans(n_clusters=3, random_state=RS)\n",
    "k_means.fit(X_train)\n",
    "y_pred = k_means.predict(X_test)\n",
    "\n",
    "from sklearn.tree import DecisionTreeClassifier\n",
    "dtc = DecisionTreeClassifier(max_depth=5)\n",
    "dtc.fit(X_train, y_train)"
   ]
  },
  {
   "cell_type": "markdown",
   "metadata": {},
   "source": [
    "### Оценка качества (производительности) работы алгоритмов"
   ]
  },
  {
   "cell_type": "code",
   "execution_count": 8,
   "metadata": {},
   "outputs": [
    {
     "data": {
      "text/plain": [
       "0.7"
      ]
     },
     "execution_count": 8,
     "metadata": {},
     "output_type": "execute_result"
    }
   ],
   "source": [
    "knn.score(X_test, y_test) # mean accuracy on the given test data and labels"
   ]
  },
  {
   "cell_type": "markdown",
   "metadata": {},
   "source": [
    "#### Accuracy"
   ]
  },
  {
   "cell_type": "code",
   "execution_count": 9,
   "metadata": {},
   "outputs": [
    {
     "data": {
      "text/plain": [
       "0.16666666666666666"
      ]
     },
     "execution_count": 9,
     "metadata": {},
     "output_type": "execute_result"
    }
   ],
   "source": [
    "from sklearn.metrics import accuracy_score\n",
    "accuracy_score(y_test, y_pred)"
   ]
  },
  {
   "cell_type": "markdown",
   "metadata": {},
   "source": [
    "#### Precision"
   ]
  },
  {
   "cell_type": "code",
   "execution_count": 10,
   "metadata": {},
   "outputs": [
    {
     "data": {
      "text/plain": [
       "array([False,  True,  True,  True, False,  True, False, False, False,\n",
       "        True,  True, False,  True,  True,  True,  True, False, False,\n",
       "        True, False,  True,  True,  True,  True,  True,  True,  True,\n",
       "       False,  True, False])"
      ]
     },
     "execution_count": 10,
     "metadata": {},
     "output_type": "execute_result"
    }
   ],
   "source": [
    "y_pred > 0 / 1"
   ]
  },
  {
   "cell_type": "code",
   "execution_count": 11,
   "metadata": {},
   "outputs": [
    {
     "data": {
      "text/plain": [
       "0.2"
      ]
     },
     "execution_count": 11,
     "metadata": {},
     "output_type": "execute_result"
    }
   ],
   "source": [
    "from sklearn.metrics import precision_score\n",
    "precision_score(y_test, y_pred, average='weighted')"
   ]
  },
  {
   "cell_type": "markdown",
   "metadata": {},
   "source": [
    "#### Recall"
   ]
  },
  {
   "cell_type": "code",
   "execution_count": 12,
   "metadata": {},
   "outputs": [
    {
     "data": {
      "text/plain": [
       "0.16666666666666666"
      ]
     },
     "execution_count": 12,
     "metadata": {},
     "output_type": "execute_result"
    }
   ],
   "source": [
    "from sklearn.metrics import recall_score\n",
    "recall_score(y_test, y_pred, average='weighted')"
   ]
  },
  {
   "cell_type": "markdown",
   "metadata": {},
   "source": [
    "#### Precision-Recall curve"
   ]
  },
  {
   "cell_type": "code",
   "execution_count": 13,
   "metadata": {
    "scrolled": false
   },
   "outputs": [
    {
     "data": {
      "image/png": "[encoded data removed]",
      "text/plain": [
       "<Figure size 432x288 with 1 Axes>"
      ]
     },
     "metadata": {
      "needs_background": "light"
     },
     "output_type": "display_data"
    }
   ],
   "source": [
    "from sklearn.metrics import precision_recall_curve\n",
    "from sklearn.model_selection import cross_val_predict\n",
    "\n",
    "idx = np.where(iris.target<2)[0] # оставим только класс 0 и 1\n",
    "X_, y_ = iris.data[idx, :2], iris.target[idx]\n",
    "\n",
    "# это оценки, которые дает классификатор обоим классам\n",
    "y_scores = cross_val_predict(sgd_clf, X_, y_, cv=4, method='decision_function')\n",
    "\n",
    "# в зависимости от порога меняются соотношения precision/recall.\n",
    "# Предлагается выбирать порог осмысленно, например, на пересечении кривых\n",
    "precisions, recalls, thresholds = precision_recall_curve(y_, y_scores)\n",
    "\n",
    "plt.plot(thresholds, precisions[:-1], \"b--\", label=\"Precision\")\n",
    "plt.plot(thresholds, recalls[:-1], \"g-\", label=\"Recall\")\n",
    "plt.xlabel(\"Threshold\")\n",
    "plt.legend()\n",
    "plt.grid()\n",
    "plt.ylim([0,1.2]);"
   ]
  },
  {
   "cell_type": "code",
   "execution_count": 14,
   "metadata": {},
   "outputs": [
    {
     "data": {
      "image/png": "[encoded data removed]",
      "text/plain": [
       "<Figure size 432x288 with 1 Axes>"
      ]
     },
     "metadata": {
      "needs_background": "light"
     },
     "output_type": "display_data"
    },
    {
     "data": {
      "text/plain": [
       "<Figure size 576x432 with 0 Axes>"
      ]
     },
     "metadata": {},
     "output_type": "display_data"
    }
   ],
   "source": [
    "plt.plot(recalls, precisions, \"b-\", linewidth=2)\n",
    "plt.xlabel(\"Recall\", fontsize=16)\n",
    "plt.ylabel(\"Precision\", fontsize=16)\n",
    "plt.axis([0, 1, 0, 1])\n",
    "plt.figure(figsize=(8, 6))\n",
    "plt.show();"
   ]
  },
  {
   "cell_type": "markdown",
   "metadata": {},
   "source": [
    "#### Три в одном отчете: precision, recall, f1-score"
   ]
  },
  {
   "cell_type": "code",
   "execution_count": 15,
   "metadata": {},
   "outputs": [
    {
     "name": "stdout",
     "output_type": "stream",
     "text": [
      "              precision    recall  f1-score   support\n",
      "\n",
      "           0       0.00      0.00      0.00         9\n",
      "           1       0.00      0.00      0.00         9\n",
      "           2       0.50      0.42      0.45        12\n",
      "\n",
      "    accuracy                           0.17        30\n",
      "   macro avg       0.17      0.14      0.15        30\n",
      "weighted avg       0.20      0.17      0.18        30\n",
      "\n"
     ]
    }
   ],
   "source": [
    "from sklearn.metrics import classification_report\n",
    "print(classification_report(y_test, y_pred))"
   ]
  },
  {
   "cell_type": "code",
   "execution_count": 16,
   "metadata": {},
   "outputs": [
    {
     "name": "stdout",
     "output_type": "stream",
     "text": [
      "[[0 9 0]\n",
      " [4 0 5]\n",
      " [7 0 5]]\n"
     ]
    }
   ],
   "source": [
    "from sklearn.metrics import confusion_matrix\n",
    "print(confusion_matrix(y_test, y_pred))"
   ]
  },
  {
   "cell_type": "markdown",
   "metadata": {},
   "source": [
    "#### ROC-AUC"
   ]
  },
  {
   "cell_type": "code",
   "execution_count": 17,
   "metadata": {
    "scrolled": true
   },
   "outputs": [
    {
     "data": {
      "image/png": "[encoded data removed]",
      "text/plain": [
       "<Figure size 432x288 with 1 Axes>"
      ]
     },
     "metadata": {
      "needs_background": "light"
     },
     "output_type": "display_data"
    }
   ],
   "source": [
    "from sklearn.metrics import roc_curve\n",
    "from sklearn.metrics import roc_auc_score\n",
    "\n",
    "fpr, tpr, thresholds = roc_curve(y_, y_scores)\n",
    "area = roc_auc_score(y_, y_scores)\n",
    "\n",
    "plt.plot(fpr, tpr, linewidth=2)\n",
    "plt.plot([0, 1], [0, 1], 'k--')\n",
    "plt.axis([0, 1, 0, 1])\n",
    "plt.xlabel('False Positive Rate', fontsize=16)\n",
    "plt.ylabel('True Positive Rate', fontsize=16)\n",
    "plt.grid()\n",
    "plt.title(f'Area under curve: \\n{area}', fontsize=18)\n",
    "plt.show()"
   ]
  },
  {
   "cell_type": "markdown",
   "metadata": {},
   "source": [
    "#### Early stopping (когда сделать раннее прекращение обучения)"
   ]
  },
  {
   "cell_type": "code",
   "execution_count": 18,
   "metadata": {
    "scrolled": true
   },
   "outputs": [
    {
     "data": {
      "image/png": "[encoded data removed]",
      "text/plain": [
       "<Figure size 432x288 with 1 Axes>"
      ]
     },
     "metadata": {
      "needs_background": "light"
     },
     "output_type": "display_data"
    }
   ],
   "source": [
    "from sklearn.pipeline import Pipeline\n",
    "from sklearn.preprocessing import PolynomialFeatures\n",
    "from sklearn.linear_model import SGDRegressor\n",
    "from sklearn.metrics import mean_squared_error\n",
    "\n",
    "np.random.seed(38)\n",
    "m = 100\n",
    "X_rand = 6 * np.random.rand(m, 1) - 3\n",
    "y_rand = 2 + X_rand + 0.5 * X_rand**2 + np.random.randn(m, 1)\n",
    "\n",
    "X_train_rand, X_val_rand, y_train_rand, y_val_rand = \\\n",
    "train_test_split(X_rand[:50], y_rand[:50].ravel(), test_size=0.5, random_state=10)\n",
    "\n",
    "poly_scaler = Pipeline([\n",
    "        (\"poly_features\", PolynomialFeatures(degree=90, include_bias=False)),\n",
    "        (\"std_scaler\", StandardScaler()),\n",
    "    ])\n",
    "\n",
    "X_train_poly_scaled = poly_scaler.fit_transform(X_train_rand)\n",
    "X_val_poly_scaled = poly_scaler.transform(X_val_rand)\n",
    "\n",
    "sgd_reg = SGDRegressor(max_iter=1,\n",
    "                       tol=-np.infty,\n",
    "                       penalty=None,\n",
    "                       eta0=0.0005,\n",
    "                       warm_start=True,\n",
    "                       learning_rate=\"constant\",\n",
    "                       random_state=42)\n",
    "\n",
    "n_epochs = 500\n",
    "train_errors, val_errors = [], []\n",
    "for epoch in range(n_epochs):\n",
    "    sgd_reg.fit(X_train_poly_scaled, y_train_rand)\n",
    "    y_train_predict = sgd_reg.predict(X_train_poly_scaled)\n",
    "    y_val_predict = sgd_reg.predict(X_val_poly_scaled)\n",
    "    train_errors.append(mean_squared_error(y_train_rand, y_train_predict))\n",
    "    val_errors.append(mean_squared_error(y_val_rand, y_val_predict))\n",
    "\n",
    "best_epoch = np.argmin(val_errors)\n",
    "best_val_rmse = np.sqrt(val_errors[best_epoch])\n",
    "\n",
    "plt.annotate('Best model',\n",
    "             xy=(best_epoch, best_val_rmse),\n",
    "             xytext=(best_epoch, best_val_rmse + 1),\n",
    "             ha=\"center\",\n",
    "             arrowprops=dict(facecolor='black', shrink=0.05),\n",
    "             fontsize=16,\n",
    "            )\n",
    "\n",
    "best_val_rmse -= 0.03  # just to make the graph look better\n",
    "plt.plot([0, n_epochs], [best_val_rmse, best_val_rmse], \"k:\", linewidth=2)\n",
    "plt.plot(np.sqrt(val_errors), \"b-\", linewidth=3, label=\"Validation set\")\n",
    "plt.plot(np.sqrt(train_errors), \"r--\", linewidth=2, label=\"Training set\")\n",
    "plt.legend(loc=\"upper right\", fontsize=14)\n",
    "plt.xlabel(\"Epoch\", fontsize=14)\n",
    "plt.ylabel(\"RMSE\", fontsize=14)\n",
    "plt.show()"
   ]
  },
  {
   "cell_type": "markdown",
   "metadata": {},
   "source": [
    "#### Кривая обучения (чтобы увидеть момент начала переобучения)"
   ]
  },
  {
   "cell_type": "code",
   "execution_count": 19,
   "metadata": {},
   "outputs": [
    {
     "data": {
      "image/png": "[encoded data removed]",
      "text/plain": [
       "<Figure size 432x288 with 1 Axes>"
      ]
     },
     "metadata": {
      "needs_background": "light"
     },
     "output_type": "display_data"
    }
   ],
   "source": [
    "from sklearn.metrics import mean_squared_error\n",
    "from sklearn.model_selection import train_test_split\n",
    "\n",
    "def plot_learning_curves(model, X, y):\n",
    "    X_train, X_val, y_train, y_val = train_test_split(X, y, test_size=0.2, random_state=10)\n",
    "    train_errors, val_errors = [], []\n",
    "    for m in range(1, len(X_train)):\n",
    "        model.fit(X_train[:m], y_train[:m])\n",
    "        y_train_predict = model.predict(X_train[:m])\n",
    "        y_val_predict = model.predict(X_val)\n",
    "        train_errors.append(mean_squared_error(y_train[:m], y_train_predict))\n",
    "        val_errors.append(mean_squared_error(y_val, y_val_predict))\n",
    "\n",
    "    plt.plot(np.sqrt(train_errors), \"r-+\", linewidth=2, label=\"train\")\n",
    "    plt.plot(np.sqrt(val_errors), \"b-\", linewidth=3, label=\"val\")\n",
    "    plt.legend(loc=\"upper right\", fontsize=14)   # not shown in the book\n",
    "    plt.xlabel(\"Training set size\", fontsize=14) # not shown\n",
    "    plt.ylabel(\"RMSE\", fontsize=14)              # not shown\n",
    "    \n",
    "lin_reg = LinearRegression()\n",
    "plot_learning_curves(lin_reg, X_rand, y_rand)\n",
    "plt.axis([0, 80, 0, 3])                         # not shown in the book\n",
    "plt.show()"
   ]
  },
  {
   "cell_type": "markdown",
   "metadata": {},
   "source": [
    "### Метрики качества для регрессий"
   ]
  },
  {
   "cell_type": "markdown",
   "metadata": {},
   "source": [
    "#### MAE (Mean Absolute Error)"
   ]
  },
  {
   "cell_type": "code",
   "execution_count": 20,
   "metadata": {},
   "outputs": [
    {
     "data": {
      "text/plain": [
       "1.0666666666666667"
      ]
     },
     "execution_count": 20,
     "metadata": {},
     "output_type": "execute_result"
    }
   ],
   "source": [
    "from sklearn.metrics import mean_absolute_error\n",
    "mean_absolute_error(y_test, y_pred)"
   ]
  },
  {
   "cell_type": "markdown",
   "metadata": {},
   "source": [
    "#### MSE (Mean Squared Error)"
   ]
  },
  {
   "cell_type": "code",
   "execution_count": 21,
   "metadata": {},
   "outputs": [
    {
     "data": {
      "text/plain": [
       "1.5333333333333334"
      ]
     },
     "execution_count": 21,
     "metadata": {},
     "output_type": "execute_result"
    }
   ],
   "source": [
    "from sklearn.metrics import mean_squared_error\n",
    "mean_squared_error(y_test, y_pred)"
   ]
  },
  {
   "cell_type": "markdown",
   "metadata": {},
   "source": [
    "#### R^2 Score"
   ]
  },
  {
   "cell_type": "markdown",
   "metadata": {},
   "source": [
    "\\begin{equation*}\n",
    "R^2 = 1 - \\frac{\\sum_{k=1}^m (\\hat{y_{i}}-y_{i})^2}{\\sum_{k=1}^m (\\bar{y}-y_{i})^2}\n",
    "\\end{equation*}"
   ]
  },
  {
   "cell_type": "code",
   "execution_count": 22,
   "metadata": {},
   "outputs": [
    {
     "data": {
      "text/plain": [
       "-1.2222222222222219"
      ]
     },
     "execution_count": 22,
     "metadata": {},
     "output_type": "execute_result"
    }
   ],
   "source": [
    "from sklearn.metrics import r2_score\n",
    "r2_score(y_test, y_pred)"
   ]
  },
  {
   "cell_type": "markdown",
   "metadata": {},
   "source": [
    "### Метрики качества для алгоритмов кластеризации"
   ]
  },
  {
   "cell_type": "markdown",
   "metadata": {},
   "source": [
    "#### ARI (Adjusted Rand Index)"
   ]
  },
  {
   "cell_type": "code",
   "execution_count": 23,
   "metadata": {},
   "outputs": [
    {
     "data": {
      "text/plain": [
       "0.42464545521346175"
      ]
     },
     "execution_count": 23,
     "metadata": {},
     "output_type": "execute_result"
    }
   ],
   "source": [
    "from sklearn.metrics import adjusted_rand_score\n",
    "adjusted_rand_score(y_test, y_pred)"
   ]
  },
  {
   "cell_type": "markdown",
   "metadata": {},
   "source": [
    "#### Homogeneity score\n",
    "\n",
    "Показатель однородности маркировки кластера с учетом фактов.\n",
    "Результат кластеризации считается однородным, если все его кластеры содержат только точки данных, которые являются членами одного класса."
   ]
  },
  {
   "cell_type": "code",
   "execution_count": 24,
   "metadata": {},
   "outputs": [
    {
     "data": {
      "text/plain": [
       "0.5670930407227018"
      ]
     },
     "execution_count": 24,
     "metadata": {},
     "output_type": "execute_result"
    }
   ],
   "source": [
    "from sklearn.metrics import homogeneity_score\n",
    "homogeneity_score(y_test, y_pred)"
   ]
  },
  {
   "cell_type": "markdown",
   "metadata": {},
   "source": [
    "#### V-measure\n",
    "\n",
    "Соотношение отднородности и полноты. Подробнее: http://espressocode.top/ml-v-measure-for-evaluating-clustering-performance/"
   ]
  },
  {
   "cell_type": "code",
   "execution_count": 25,
   "metadata": {},
   "outputs": [
    {
     "data": {
      "text/plain": [
       "0.565438267319535"
      ]
     },
     "execution_count": 25,
     "metadata": {},
     "output_type": "execute_result"
    }
   ],
   "source": [
    "from sklearn.metrics import v_measure_score\n",
    "v_measure_score(y_test, y_pred)"
   ]
  },
  {
   "cell_type": "markdown",
   "metadata": {},
   "source": [
    "### Метрики качества для кластеризации"
   ]
  },
  {
   "cell_type": "code",
   "execution_count": 78,
   "metadata": {},
   "outputs": [],
   "source": [
    "from sklearn.datasets import make_moons, make_blobs\n",
    "from sklearn.preprocessing import StandardScaler\n",
    "from sklearn.cluster import KMeans, AgglomerativeClustering, DBSCAN, AffinityPropagation\n",
    "from sklearn.metrics import adjusted_rand_score, silhouette_score\n",
    "\n",
    "X_clust, y_clust = make_moons(n_samples=200, noise=0.05, random_state=0)\n",
    "scaler = StandardScaler()\n",
    "X_clust_scaled = scaler.fit_transform(X_clust)\n",
    "\n",
    "algorithms = [\n",
    "    AffinityPropagation(),\n",
    "    KMeans(n_clusters=2),\n",
    "    AgglomerativeClustering(n_clusters=2),\n",
    "    DBSCAN(),\n",
    "]\n",
    "\n",
    "clusters_random = np.random.randint(low=0, high=2, size=len(X_clust))\n",
    "\n",
    "def get_descr(algo_name, y, y_pred, X):\n",
    "    \"\"\"считает 2 метрики качества и генерирует заголовки для графиков\"\"\"\n",
    "    return \"{}\\nARI {:.2f}\\nSilhouette {:.2f}\".format(\n",
    "        algo_name,\n",
    "        adjusted_rand_score(y, y_pred),\n",
    "        silhouette_score(X, y_pred)\n",
    "    )"
   ]
  },
  {
   "cell_type": "code",
   "execution_count": 79,
   "metadata": {
    "scrolled": true
   },
   "outputs": [
    {
     "data": {
      "image/png": "[encoded data removed]",
      "text/plain": [
       "<Figure size 1080x144 with 5 Axes>"
      ]
     },
     "metadata": {
      "needs_background": "light"
     },
     "output_type": "display_data"
    }
   ],
   "source": [
    "fig, axes = plt.subplots(1, 5, figsize=(15, 2))\n",
    "alpha = 0.3\n",
    "axes[0].scatter(X_clust_scaled[:, 0], X_clust_scaled[:, 1], c=clusters_random, cmap='autumn', s=60, alpha=alpha)\n",
    "axes[0].set_title(get_descr(\"Random\", y_clust, clusters_random, X_clust_scaled))\n",
    "for ax, algorithm in zip(axes[1:], algorithms):\n",
    "    # кластеризуем и выводим картинку\n",
    "    clusters = algorithm.fit_predict(X_clust_scaled)\n",
    "    ax.scatter(X_clust_scaled[:, 0], X_clust_scaled[:, 1], c=clusters, cmap='autumn', s=60, alpha=alpha)\n",
    "    ax.set_title(get_descr(algorithm.__class__.__name__, y_clust, clusters, X_clust_scaled))\n",
    "    \n",
    "    # если есть центры кластеров - выведем их\n",
    "    if algorithm.__class__.__name__ in {'KMeans', 'AffinityPropagation'}:\n",
    "        centers = algorithm.cluster_centers_\n",
    "        ax.scatter(centers[:, 0], centers[:, 1], s=50)"
   ]
  },
  {
   "cell_type": "markdown",
   "metadata": {},
   "source": [
    "#### Подбор количества кластеров\n",
    "\n",
    "KMeans минимизирует сумму квадратов расстояний объектов классов до их центроидов (**Инерция**). В обученном классификаторе это значение находится в поле inertia_. Посчитаем значения inertia при разном количестве кластеров. Они объективно стремятся к нулю с ростом числа кластеров (предельный случай: каждый объект - кластер, расстояние = 0)"
   ]
  },
  {
   "cell_type": "code",
   "execution_count": 80,
   "metadata": {},
   "outputs": [
    {
     "data": {
      "text/plain": [
       "[<matplotlib.lines.Line2D at 0x7f133cfebc50>]"
      ]
     },
     "execution_count": 80,
     "metadata": {},
     "output_type": "execute_result"
    },
    {
     "data": {
      "image/png": "[encoded data removed]",
      "text/plain": [
       "<Figure size 432x288 with 1 Axes>"
      ]
     },
     "metadata": {
      "needs_background": "light"
     },
     "output_type": "display_data"
    }
   ],
   "source": [
    "k_inertia = []\n",
    "ks = range(1,11)\n",
    "\n",
    "for k in ks:\n",
    "    clf_kmeans = KMeans(n_clusters=k)\n",
    "    clusters_kmeans = clf_kmeans.fit_predict(X_clust_scaled, )\n",
    "    k_inertia.append(clf_kmeans.inertia_)\n",
    "    \n",
    "plt.plot(ks, k_inertia)\n",
    "plt.plot(ks, k_inertia ,'ro')"
   ]
  },
  {
   "cell_type": "markdown",
   "metadata": {},
   "source": [
    "Как подобрать оптимальное значение? Будем на каждом шаге смотреть изменение inertia, и в тот момент, когда оно резко замедлится (относительно предыдущего изменения) мы и остановимся.\n",
    "\n",
    "Для начала считаем сами изменения.\n",
    "\n",
    "$${inertia_{k+1}-inertia_{k}}$$"
   ]
  },
  {
   "cell_type": "code",
   "execution_count": 82,
   "metadata": {
    "scrolled": true
   },
   "outputs": [
    {
     "data": {
      "image/png": "[encoded data removed]",
      "text/plain": [
       "<Figure size 432x288 with 1 Axes>"
      ]
     },
     "metadata": {
      "needs_background": "light"
     },
     "output_type": "display_data"
    }
   ],
   "source": [
    "diff = np.diff(k_inertia)\n",
    "plt.plot(ks[1:], diff);"
   ]
  },
  {
   "cell_type": "markdown",
   "metadata": {},
   "source": [
    "Теперь можно найти оптимальное число кластеров по этой формуле:\n",
    "\n",
    "$$k_{opt} = argmin(\\frac{inertia_{k+1}-inertia_{k}}{inertia_{k}-inertia_{k-1}})$$"
   ]
  },
  {
   "cell_type": "code",
   "execution_count": 83,
   "metadata": {},
   "outputs": [
    {
     "data": {
      "text/plain": [
       "[<matplotlib.lines.Line2D at 0x7f133c4f9610>]"
      ]
     },
     "execution_count": 83,
     "metadata": {},
     "output_type": "execute_result"
    },
    {
     "data": {
      "image/png": "[encoded data removed]",
      "text/plain": [
       "<Figure size 432x288 with 1 Axes>"
      ]
     },
     "metadata": {
      "needs_background": "light"
     },
     "output_type": "display_data"
    }
   ],
   "source": [
    "diff_r = diff[1:] / diff[:-1]\n",
    "plt.plot(ks[1:-1], diff_r);"
   ]
  },
  {
   "cell_type": "code",
   "execution_count": 84,
   "metadata": {},
   "outputs": [
    {
     "name": "stdout",
     "output_type": "stream",
     "text": [
      "Оптимальное количество кластеров (но это не точно): 2\n"
     ]
    }
   ],
   "source": [
    "k_opt = ks[np.argmin(diff_r)+1]\n",
    "print(\"Оптимальное количество кластеров (но это не точно):\", k_opt)"
   ]
  },
  {
   "cell_type": "markdown",
   "metadata": {},
   "source": [
    "### Кросс-валидация (K-fold) и комбинаторный перебор параметров (Grid search)"
   ]
  },
  {
   "cell_type": "markdown",
   "metadata": {},
   "source": [
    "#### K-Fold (без соблюдения пропорций классов)"
   ]
  },
  {
   "cell_type": "code",
   "execution_count": 26,
   "metadata": {
    "scrolled": false
   },
   "outputs": [
    {
     "name": "stdout",
     "output_type": "stream",
     "text": [
      "[0.8 0.8 0.7 0.9]\n"
     ]
    }
   ],
   "source": [
    "from sklearn.model_selection import cross_val_score\n",
    "print(cross_val_score(knn, X_train, y_train, cv=4, scoring='accuracy'))"
   ]
  },
  {
   "cell_type": "markdown",
   "metadata": {},
   "source": [
    "#### K-Fold (с соблюдением пропорций классов)"
   ]
  },
  {
   "cell_type": "code",
   "execution_count": 27,
   "metadata": {},
   "outputs": [
    {
     "name": "stdout",
     "output_type": "stream",
     "text": [
      "[0.73684211, 0.73684211, 0.7027027, 0.81081081]\n"
     ]
    }
   ],
   "source": [
    "from sklearn.model_selection import StratifiedKFold\n",
    "skfolds = StratifiedKFold(n_splits=4, random_state=RS, shuffle=True)\n",
    "\n",
    "knn = neighbors.KNeighborsClassifier(n_neighbors=5)\n",
    "cross_val_score_strat_list = []\n",
    "\n",
    "for train_index, test_index in skfolds.split(X, y):\n",
    "    X_train, X_test = X[train_index], X[test_index]\n",
    "    y_train, y_test = y[train_index], y[test_index]\n",
    "    knn.fit(X_train, y_train)\n",
    "    y_pred = knn.predict(X_test)\n",
    "    acc = accuracy_score(y_test, y_pred)\n",
    "    cross_val_score_strat_list.append(round(acc, 8))\n",
    "\n",
    "print(cross_val_score_strat_list)"
   ]
  },
  {
   "cell_type": "markdown",
   "metadata": {},
   "source": [
    "#### Grid Search"
   ]
  },
  {
   "cell_type": "code",
   "execution_count": 28,
   "metadata": {},
   "outputs": [
    {
     "name": "stdout",
     "output_type": "stream",
     "text": [
      "0.7434782608695653\n",
      "KNeighborsClassifier(algorithm='auto', leaf_size=30, metric='euclidean',\n",
      "                     metric_params=None, n_jobs=None, n_neighbors=2, p=2,\n",
      "                     weights='uniform')\n",
      "2\n"
     ]
    }
   ],
   "source": [
    "from sklearn.model_selection import GridSearchCV\n",
    "import numpy as np\n",
    "params = {\"n_neighbors\": np.arange(1,3), \"metric\": [\"euclidean\", \"cityblock\"]}\n",
    "grid = GridSearchCV(estimator=knn,param_grid=params)\n",
    "grid.fit(X_train, y_train)\n",
    "print(grid.best_score_)\n",
    "print(grid.best_estimator_)\n",
    "print(grid.best_estimator_.n_neighbors)"
   ]
  },
  {
   "cell_type": "markdown",
   "metadata": {},
   "source": [
    "#### Randomized search\n",
    "\n",
    "В зависимости от дозволенного количества итераций алгоритм опробует случайно выбранные параметры (а не заданные, как в Grid search)."
   ]
  },
  {
   "cell_type": "code",
   "execution_count": 29,
   "metadata": {},
   "outputs": [
    {
     "name": "stdout",
     "output_type": "stream",
     "text": [
      "0.7441502463054188\n",
      "KNeighborsClassifier(algorithm='auto', leaf_size=30, metric='minkowski',\n",
      "                     metric_params=None, n_jobs=None, n_neighbors=3, p=2,\n",
      "                     weights='distance')\n",
      "3\n"
     ]
    }
   ],
   "source": [
    "from sklearn.model_selection import RandomizedSearchCV\n",
    "params = {\"n_neighbors\": range(1,5), \"weights\": [\"uniform\", \"distance\"]}\n",
    "rsearch = RandomizedSearchCV(estimator=knn, param_distributions=params, cv=4,n_iter=8,random_state=5)\n",
    "rsearch.fit(X_train, y_train)\n",
    "print(rsearch.best_score_)\n",
    "print(rsearch.best_estimator_)\n",
    "print(rsearch.best_estimator_.n_neighbors)"
   ]
  },
  {
   "cell_type": "markdown",
   "metadata": {},
   "source": [
    "### Прочее"
   ]
  },
  {
   "cell_type": "markdown",
   "metadata": {},
   "source": [
    "#### Визуализация дерева решений"
   ]
  },
  {
   "cell_type": "code",
   "execution_count": 30,
   "metadata": {
    "scrolled": true
   },
   "outputs": [
    {
     "name": "stdout",
     "output_type": "stream",
     "text": [
      "digraph Tree {\n",
      "node [shape=box, style=\"filled\", color=\"black\"] ;\n",
      "0 [label=\"sepal length (cm) <= 5.45\\ngini = 0.666\\nsamples = 120\\nvalue = [41, 41, 38]\\nclass = setosa\", fillcolor=\"#ffffff\"] ;\n",
      "1 [label=\"sepal width (cm) <= 2.8\\ngini = 0.214\\nsamples = 41\\nvalue = [36, 5, 0]\\nclass = setosa\", fillcolor=\"#e99254\"] ;\n",
      "0 -> 1 [labeldistance=2.5, labelangle=45, headlabel=\"True\"] ;\n",
      "2 [label=\"gini = 0.0\\nsamples = 4\\nvalue = [0, 4, 0]\\nclass = versicolor\", fillcolor=\"#39e581\"] ;\n",
      "1 -> 2 ;\n",
      "3 [label=\"sepal length (cm) <= 5.35\\ngini = 0.053\\nsamples = 37\\nvalue = [36, 1, 0]\\nclass = setosa\", fillcolor=\"#e6843e\"] ;\n",
      "1 -> 3 ;\n",
      "4 [label=\"gini = 0.0\\nsamples = 31\\nvalue = [31, 0, 0]\\nclass = setosa\", fillcolor=\"#e58139\"] ;\n",
      "3 -> 4 ;\n",
      "5 [label=\"sepal width (cm) <= 3.2\\ngini = 0.278\\nsamples = 6\\nvalue = [5, 1, 0]\\nclass = setosa\", fillcolor=\"#ea9a61\"] ;\n",
      "3 -> 5 ;\n",
      "6 [label=\"gini = 0.0\\nsamples = 1\\nvalue = [0, 1, 0]\\nclass = versicolor\", fillcolor=\"#39e581\"] ;\n",
      "5 -> 6 ;\n",
      "7 [label=\"gini = 0.0\\nsamples = 5\\nvalue = [5, 0, 0]\\nclass = setosa\", fillcolor=\"#e58139\"] ;\n",
      "5 -> 7 ;\n",
      "8 [label=\"sepal length (cm) <= 6.15\\ngini = 0.557\\nsamples = 79\\nvalue = [5, 36, 38]\\nclass = virginica\", fillcolor=\"#f9f6fe\"] ;\n",
      "0 -> 8 [labeldistance=2.5, labelangle=-45, headlabel=\"False\"] ;\n",
      "9 [label=\"sepal width (cm) <= 3.45\\ngini = 0.48\\nsamples = 35\\nvalue = [5, 24, 6]\\nclass = versicolor\", fillcolor=\"#84efb1\"] ;\n",
      "8 -> 9 ;\n",
      "10 [label=\"sepal width (cm) <= 2.25\\ngini = 0.32\\nsamples = 30\\nvalue = [0, 24, 6]\\nclass = versicolor\", fillcolor=\"#6aeca0\"] ;\n",
      "9 -> 10 ;\n",
      "11 [label=\"gini = 0.5\\nsamples = 2\\nvalue = [0, 1, 1]\\nclass = versicolor\", fillcolor=\"#ffffff\"] ;\n",
      "10 -> 11 ;\n",
      "12 [label=\"sepal length (cm) <= 5.55\\ngini = 0.293\\nsamples = 28\\nvalue = [0, 23, 5]\\nclass = versicolor\", fillcolor=\"#64eb9c\"] ;\n",
      "10 -> 12 ;\n",
      "13 [label=\"gini = 0.0\\nsamples = 4\\nvalue = [0, 4, 0]\\nclass = versicolor\", fillcolor=\"#39e581\"] ;\n",
      "12 -> 13 ;\n",
      "14 [label=\"gini = 0.33\\nsamples = 24\\nvalue = [0, 19, 5]\\nclass = versicolor\", fillcolor=\"#6deca2\"] ;\n",
      "12 -> 14 ;\n",
      "15 [label=\"gini = 0.0\\nsamples = 5\\nvalue = [5, 0, 0]\\nclass = setosa\", fillcolor=\"#e58139\"] ;\n",
      "9 -> 15 ;\n",
      "16 [label=\"sepal width (cm) <= 2.4\\ngini = 0.397\\nsamples = 44\\nvalue = [0, 12, 32]\\nclass = virginica\", fillcolor=\"#b083ef\"] ;\n",
      "8 -> 16 ;\n",
      "17 [label=\"gini = 0.0\\nsamples = 2\\nvalue = [0, 2, 0]\\nclass = versicolor\", fillcolor=\"#39e581\"] ;\n",
      "16 -> 17 ;\n",
      "18 [label=\"sepal length (cm) <= 6.75\\ngini = 0.363\\nsamples = 42\\nvalue = [0, 10, 32]\\nclass = virginica\", fillcolor=\"#a877ed\"] ;\n",
      "16 -> 18 ;\n",
      "19 [label=\"sepal width (cm) <= 2.85\\ngini = 0.436\\nsamples = 28\\nvalue = [0, 9, 19]\\nclass = virginica\", fillcolor=\"#bd97f1\"] ;\n",
      "18 -> 19 ;\n",
      "20 [label=\"gini = 0.32\\nsamples = 10\\nvalue = [0, 2, 8]\\nclass = virginica\", fillcolor=\"#a06aec\"] ;\n",
      "19 -> 20 ;\n",
      "21 [label=\"gini = 0.475\\nsamples = 18\\nvalue = [0, 7, 11]\\nclass = virginica\", fillcolor=\"#d1b7f6\"] ;\n",
      "19 -> 21 ;\n",
      "22 [label=\"sepal length (cm) <= 7.1\\ngini = 0.133\\nsamples = 14\\nvalue = [0, 1, 13]\\nclass = virginica\", fillcolor=\"#8b48e7\"] ;\n",
      "18 -> 22 ;\n",
      "23 [label=\"gini = 0.278\\nsamples = 6\\nvalue = [0, 1, 5]\\nclass = virginica\", fillcolor=\"#9a61ea\"] ;\n",
      "22 -> 23 ;\n",
      "24 [label=\"gini = 0.0\\nsamples = 8\\nvalue = [0, 0, 8]\\nclass = virginica\", fillcolor=\"#8139e5\"] ;\n",
      "22 -> 24 ;\n",
      "}\n"
     ]
    }
   ],
   "source": [
    "from sklearn.tree import export_graphviz\n",
    "\n",
    "print(export_graphviz(dtc, \n",
    "                      out_file=None, \n",
    "                      filled=True, \n",
    "                      feature_names=iris.feature_names[:2], \n",
    "                      class_names=list(iris.target_names))\n",
    "     )"
   ]
  },
  {
   "cell_type": "markdown",
   "metadata": {},
   "source": [
    "Вставить полученный из функции print вывод сюда: http://www.webgraphviz.com"
   ]
  },
  {
   "cell_type": "markdown",
   "metadata": {},
   "source": [
    "А можно сразу использовать export_graphviz для сохранения в файл: "
   ]
  },
  {
   "cell_type": "code",
   "execution_count": null,
   "metadata": {},
   "outputs": [],
   "source": [
    "from sklearn.tree import export_graphviz\n",
    "\n",
    "DOT_PATH = \"filename.dot\" \n",
    "\n",
    "export_graphviz(\n",
    "        decision_tree=dtc,\n",
    "        out_file=image_path(\"iris_tree.dot\"),\n",
    "        feature_names=iris.feature_names[:2],\n",
    "        class_names=iris.target_names,\n",
    "        rounded=True,\n",
    "        filled=True\n",
    "    )"
   ]
  },
  {
   "cell_type": "markdown",
   "metadata": {},
   "source": [
    "### Сохранить модель"
   ]
  },
  {
   "cell_type": "code",
   "execution_count": 31,
   "metadata": {},
   "outputs": [
    {
     "data": {
      "text/plain": [
       "['rsearch.best_estimator_.pkl']"
      ]
     },
     "execution_count": 31,
     "metadata": {},
     "output_type": "execute_result"
    }
   ],
   "source": [
    "# from sklearn.externals import joblib # deprecated\n",
    "import joblib\n",
    "joblib.dump(rsearch.best_estimator_, 'rsearch.best_estimator_.pkl')"
   ]
  },
  {
   "cell_type": "markdown",
   "metadata": {},
   "source": [
    "##### Логистическая функция"
   ]
  },
  {
   "cell_type": "code",
   "execution_count": 48,
   "metadata": {},
   "outputs": [],
   "source": [
    "def sigm(t):\n",
    "    return 1/(1+np.e**(-t))\n",
    "xx = np.linspace(-10,10, 1000)\n",
    "yy = sigm(xx)"
   ]
  },
  {
   "cell_type": "code",
   "execution_count": 51,
   "metadata": {},
   "outputs": [
    {
     "data": {
      "image/png": "[encoded data removed]",
      "text/plain": [
       "<Figure size 432x288 with 1 Axes>"
      ]
     },
     "metadata": {
      "needs_background": "light"
     },
     "output_type": "display_data"
    }
   ],
   "source": [
    "plt.plot(xx,yy, \"r.\", linewidth=2, label=\"train\")\n",
    "plt.grid()\n",
    "plt.show()"
   ]
  },
  {
   "cell_type": "code",
   "execution_count": 64,
   "metadata": {},
   "outputs": [
    {
     "name": "stderr",
     "output_type": "stream",
     "text": [
      "/home/admin1/anaconda3/lib/python3.7/site-packages/ipykernel_launcher.py:2: RuntimeWarning: invalid value encountered in log\n",
      "  \n"
     ]
    },
    {
     "data": {
      "image/png": "[encoded data removed]",
      "text/plain": [
       "<Figure size 432x288 with 1 Axes>"
      ]
     },
     "metadata": {
      "needs_background": "light"
     },
     "output_type": "display_data"
    }
   ],
   "source": [
    "def neg_log(x, y):\n",
    "    return -1*np.log(x)\n",
    "xx = np.linspace(-10,10, 1000)\n",
    "yy = neg_log(xx, 10)\n",
    "\n",
    "plt.plot(xx,yy, \"r.\", linewidth=2, label=\"train\")\n",
    "plt.grid()\n",
    "plt.show()"
   ]
  },
  {
   "cell_type": "code",
   "execution_count": 77,
   "metadata": {},
   "outputs": [
    {
     "data": {
      "text/plain": [
       "9.210340371976182"
      ]
     },
     "execution_count": 77,
     "metadata": {},
     "output_type": "execute_result"
    }
   ],
   "source": [
    "-np.log(0.0001)"
   ]
  },
  {
   "cell_type": "code",
   "execution_count": null,
   "metadata": {},
   "outputs": [],
   "source": []
  }
 ],
 "metadata": {
  "kernelspec": {
   "display_name": "Python 3",
   "language": "python",
   "name": "python3"
  },
  "language_info": {
   "codemirror_mode": {
    "name": "ipython",
    "version": 3
   },
   "file_extension": ".py",
   "mimetype": "text/x-python",
   "name": "python",
   "nbconvert_exporter": "python",
   "pygments_lexer": "ipython3",
   "version": "3.7.6"
  }
 },
 "nbformat": 4,
 "nbformat_minor": 4
}
